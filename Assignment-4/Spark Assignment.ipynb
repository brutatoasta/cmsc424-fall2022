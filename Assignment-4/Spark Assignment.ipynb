{
 "cells": [
  {
   "cell_type": "markdown",
   "id": "e317da05",
   "metadata": {},
   "source": [
    "You can use this notebook to develop your answers. Make sure to look at intermediate results using `take()` for debugging."
   ]
  },
  {
   "cell_type": "code",
   "execution_count": 1,
   "id": "1780e79a",
   "metadata": {},
   "outputs": [],
   "source": [
    "import json \n",
    "\n",
    "## Load data into RDDs\n",
    "usersRDD = sc.textFile(\"datafiles/se_users.json\").map(json.loads)\n",
    "postsRDD = sc.textFile(\"datafiles/se_posts.json\").map(json.loads)\n",
    "playRDD = sc.textFile(\"datafiles/play.txt\")\n",
    "logsRDD = sc.textFile(\"datafiles/NASA_logs_sample.txt\")\n",
    "amazonInputRDD = sc.textFile(\"datafiles/amazon-ratings.txt\")\n",
    "nobelRDD = sc.textFile(\"datafiles/prize.json\").map(json.loads)\n",
    "amazonBipartiteRDD = amazonInputRDD.map(lambda x: x.split(\" \")).map(lambda x: (x[0], x[1])).distinct()"
   ]
  },
  {
   "cell_type": "code",
   "execution_count": 77,
   "id": "bc037925",
   "metadata": {},
   "outputs": [
    {
     "name": "stdout",
     "output_type": "stream",
     "text": [
      "{'id': 2, 'posttypeid': 1, 'title': 'How can a group track database schema changes?', 'acceptedanswerid': 4, 'parentid': None, 'creationdate': '2011-01-03', 'score': 68, 'viewcount': 11533, 'owneruserid': 7, 'lasteditoruserid': 97, 'tags': '<mysql><version-control><schema>'}\n",
      "{'id': 3, 'posttypeid': 1, 'title': 'What is an effective way of labeling columns in a database?', 'acceptedanswerid': None, 'parentid': None, 'creationdate': '2011-01-03', 'score': 30, 'viewcount': 1302, 'owneruserid': 17, 'lasteditoruserid': 97, 'tags': '<database-design><erd>'}\n",
      "{'id': 4, 'posttypeid': 2, 'title': None, 'acceptedanswerid': None, 'parentid': 2, 'creationdate': '2011-01-03', 'score': 46, 'viewcount': None, 'owneruserid': 18, 'lasteditoruserid': 1396, 'tags': None}\n"
     ]
    }
   ],
   "source": [
    "for t in postsRDD.take(3): print(t)"
   ]
  },
  {
   "cell_type": "markdown",
   "id": "f54ea6b2",
   "metadata": {},
   "source": [
    "Task 1 (0.25): Use filter to find all posts where tags are not null (None in python) and that are tagged 'postgresql-9.4', and then a map so that the output RDD has tuples of the form: (ID, Title, Tags). Note that postsRDD contains dictionaries -- see the contents by running postsRDD.take(10)."
   ]
  },
  {
   "cell_type": "code",
   "execution_count": 35,
   "id": "af5c19db",
   "metadata": {
    "scrolled": true
   },
   "outputs": [],
   "source": [
    "def task1(postsRDD):\n",
    "    res = postsRDD.filter(\n",
    "        lambda x: x.get(\"tags\")!= None).filter(\n",
    "        lambda x: \"postgresql-9.4\" in x.get(\"tags\")).map(\n",
    "        lambda x: (x.get(\"id\"), x.get(\"title\"), x.get(\"tags\"))\n",
    "    )\n",
    "    return res \n",
    "a = task1(postsRDD)"
   ]
  },
  {
   "cell_type": "code",
   "execution_count": 39,
   "id": "16c937bd",
   "metadata": {},
   "outputs": [
    {
     "name": "stdout",
     "output_type": "stream",
     "text": [
      "(89480, 'PostgreSQL timezone setting', '<postgresql><postgresql-9.4>')\n",
      "(89555, 'Retrieving latest record using DISTINCT ON is slow', '<postgresql><index><performance><postgresql-9.4><query-performance>')\n",
      "(89746, 'Use result of aggregate in same select?', '<postgresql><postgresql-9.4>')\n",
      "(89971, 'PostgreSql JSONB SELECT against multiple values', '<postgresql><json><postgresql-9.4>')\n",
      "(90002, 'PostgreSQL operator uses index but underlying function does not', '<postgresql><index-tuning><json><postgresql-9.4><operator>')\n",
      "(90360, 'Rely on .pgpass in CREATE USER MAPPING', '<postgresql><postgresql-9.4><foreign-data>')\n",
      "(95214, 'Working with Materialized View', '<postgresql><materialized-view><postgresql-9.4><pgbouncer>')\n",
      "(95758, 'PostgreSQL update and delete property from JSONB column', '<postgresql><postgresql-9.4>')\n",
      "(95778, 'Clarification on UNION ALL of JSONB_EACH result', '<postgresql><postgresql-9.4>')\n",
      "(45870, 'How to do incremental backup every hour in Postgres?', '<postgresql><backup><windows><postgresql-9.4>')\n"
     ]
    }
   ],
   "source": [
    "for t in a.take(10): print(t)"
   ]
  },
  {
   "cell_type": "markdown",
   "id": "209be31c",
   "metadata": {},
   "source": [
    "Task 2 (0.25): Use flatMap on the postsRDD to create an RDD (ID, Tag), listing all the tags for each post as a separate tuple. If a post has no tags, it should not appear in the output RDD."
   ]
  },
  {
   "cell_type": "code",
   "execution_count": 74,
   "id": "43da7ba8",
   "metadata": {},
   "outputs": [],
   "source": [
    "def task2FlatMapper(dic):\n",
    "    res = []\n",
    "    tags = dic.get(\"tags\").replace(\"<\", \"\").replace(\">\", \" \").split(\" \")\n",
    "    tags.pop()\n",
    "    for i in tags:\n",
    "        res.append( (dic.get(\"id\"), i)\n",
    "        )\n",
    "    return res\n",
    "    \n",
    "\n",
    "def task2(postsRDD):\n",
    "    return postsRDD.filter(\n",
    "        lambda x: x.get(\"tags\")!= None).flatMap(\n",
    "        task2FlatMapper\n",
    "    )\n",
    "a = task2(postsRDD)"
   ]
  },
  {
   "cell_type": "markdown",
   "id": "ca8ea231",
   "metadata": {},
   "source": [
    "Task 3 (0.25): The goal here is to find the 5 lexicographically smallest tags for each year, for the posts from that year. So the outputRDD should be contain tuples of the form: ('2001', ['tag1', 'tag2', ..., 'tag5']), with 'tag1' < 'tag2' and 'tag5' being smaller (lexicographically) than any other tag for a post from that year. All the five (or fewer for some of the years) tags should be distinct. Use a map followed by reduceByKey for doing this."
   ]
  },
  {
   "cell_type": "code",
   "execution_count": 86,
   "id": "78a8f5b1",
   "metadata": {},
   "outputs": [],
   "source": [
    "def task3MapA(dic):\n",
    "    year = dic[\"creationdate\"][:4]\n",
    "    tags = dic.get(\"tags\").replace(\"<\", \"\").replace(\">\", \" \").split(\" \")\n",
    "    tags.pop()\n",
    "    res = (year, set(tags))\n",
    "    return res\n",
    "def task3MapB(tu):\n",
    "    x= tu[1]\n",
    "    x = list(x)\n",
    "    x.sort()\n",
    "\n",
    "    return (tu[0], x[:5])\n",
    "\n",
    "def task3(postsRDD):\n",
    "    return postsRDD.filter(\n",
    "        lambda x: x.get(\"tags\")!= None).map(\n",
    "        task3MapA\n",
    "    ).reduceByKey(lambda v1, v2: v1 | v2).map(task3MapB)\n",
    "a = task3(postsRDD)"
   ]
  },
  {
   "cell_type": "code",
   "execution_count": 87,
   "id": "a60bed2b",
   "metadata": {},
   "outputs": [
    {
     "name": "stdout",
     "output_type": "stream",
     "text": [
      "('2011', ['access-control', 'active-directory', 'activity-monitor', 'ado.net', 'aggregate'])\n",
      "('2014', ['access-control', 'acid', 'active-directory', 'activity-monitor', 'address'])\n",
      "('2015', ['access-control', 'active-directory', 'ado.net', 'aggregate', 'alter-database'])\n",
      "('2010', ['data-warehouse', 'database-design', 'dbcc', 'export', 'import'])\n",
      "('2012', ['access-control', 'active-directory', 'activity-monitor', 'address', 'ado.net'])\n",
      "('2013', ['access-control', 'acid', 'active-directory', 'activity-monitor', 'address'])\n",
      "('2009', ['career', 'ssas'])\n"
     ]
    }
   ],
   "source": [
    "for t in a.take(10): print(t)\n",
    "# print(len(a.collect()))"
   ]
  },
  {
   "cell_type": "code",
   "execution_count": 6,
   "id": "24f0910e",
   "metadata": {},
   "outputs": [],
   "source": [
    "# one way is to find all the unique years, then for each year filter by year and get all the tags, then sort them lexicographically\n",
    "# 2nd way is to do some unnecessary operations, for each row sort lexicographically first, then combine?\n",
    "def task3FlatMapper(dic):\n",
    "    res = []\n",
    "    tags = dic.get(\"tags\").replace(\"<\", \"\").replace(\">\", \" \").split(\" \")\n",
    "    tags.pop()\n",
    "    \n",
    "    return res\n",
    "def task3(postsRDD):\n",
    "    res = []\n",
    "    years = postsRDD.map(lambda x: x[\"creationdate\"][:4]).distinct().collect()\n",
    "    return years\n",
    "#     for year in years:\n",
    "#         postsRDD.filter(lambda x: x[\"creationdate\"][:4] == year).map\n",
    "#         tags = \n",
    "#         res.append( (year, tags))\n",
    "#     return sc.parallelize(res)\n",
    "a = task3(postsRDD)"
   ]
  },
  {
   "cell_type": "code",
   "execution_count": 9,
   "id": "a8dd6273",
   "metadata": {},
   "outputs": [
    {
     "ename": "TypeError",
     "evalue": "'PipelinedRDD' object is not iterable",
     "output_type": "error",
     "traceback": [
      "\u001b[0;31m---------------------------------------------------------------------------\u001b[0m",
      "\u001b[0;31mTypeError\u001b[0m                                 Traceback (most recent call last)",
      "\u001b[0;32m<ipython-input-9-1c48fcb9d9b9>\u001b[0m in \u001b[0;36m<module>\u001b[0;34m\u001b[0m\n\u001b[0;32m----> 1\u001b[0;31m \u001b[0;32mfor\u001b[0m \u001b[0mt\u001b[0m \u001b[0;32min\u001b[0m \u001b[0ma\u001b[0m\u001b[0;34m:\u001b[0m \u001b[0mprint\u001b[0m\u001b[0;34m(\u001b[0m\u001b[0mt\u001b[0m\u001b[0;34m)\u001b[0m\u001b[0;34m\u001b[0m\u001b[0;34m\u001b[0m\u001b[0m\n\u001b[0m",
      "\u001b[0;31mTypeError\u001b[0m: 'PipelinedRDD' object is not iterable"
     ]
    }
   ],
   "source": [
    "for t in a: print(t)"
   ]
  },
  {
   "cell_type": "code",
   "execution_count": 94,
   "id": "84a2a940",
   "metadata": {},
   "outputs": [],
   "source": [
    "dd = {\"name\" :\"joshua\", \n",
    "      \"date\": \"2011-01-03\"}"
   ]
  },
  {
   "cell_type": "code",
   "execution_count": 97,
   "id": "b2a47cff",
   "metadata": {},
   "outputs": [
    {
     "data": {
      "text/plain": [
       "'2011'"
      ]
     },
     "execution_count": 97,
     "metadata": {},
     "output_type": "execute_result"
    }
   ],
   "source": [
    "dd[\"date\"][:4]"
   ]
  },
  {
   "cell_type": "code",
   "execution_count": 5,
   "id": "52b5d142",
   "metadata": {},
   "outputs": [
    {
     "data": {
      "text/plain": [
       "False"
      ]
     },
     "execution_count": 5,
     "metadata": {},
     "output_type": "execute_result"
    }
   ],
   "source": [
    "\"2011\" >\"2012\""
   ]
  },
  {
   "cell_type": "code",
   "execution_count": 56,
   "id": "274b54d6",
   "metadata": {},
   "outputs": [
    {
     "ename": "TypeError",
     "evalue": "unhashable type: 'set'",
     "output_type": "error",
     "traceback": [
      "\u001b[0;31m---------------------------------------------------------------------------\u001b[0m",
      "\u001b[0;31mTypeError\u001b[0m                                 Traceback (most recent call last)",
      "\u001b[0;32m<ipython-input-56-c6eb1b1b60db>\u001b[0m in \u001b[0;36m<module>\u001b[0;34m\u001b[0m\n\u001b[0;32m----> 1\u001b[0;31m \u001b[0;34m{\u001b[0m\u001b[0;36m1\u001b[0m\u001b[0;34m,\u001b[0m\u001b[0;36m2\u001b[0m\u001b[0;34m}\u001b[0m\u001b[0;34m.\u001b[0m\u001b[0madd\u001b[0m\u001b[0;34m(\u001b[0m\u001b[0;34m{\u001b[0m\u001b[0;36m1\u001b[0m\u001b[0;34m,\u001b[0m\u001b[0;36m2\u001b[0m\u001b[0;34m}\u001b[0m\u001b[0;34m)\u001b[0m\u001b[0;34m\u001b[0m\u001b[0;34m\u001b[0m\u001b[0m\n\u001b[0m",
      "\u001b[0;31mTypeError\u001b[0m: unhashable type: 'set'"
     ]
    }
   ],
   "source": [
    "{1,2}.add({1,2})"
   ]
  },
  {
   "cell_type": "code",
   "execution_count": 72,
   "id": "a959fe46",
   "metadata": {},
   "outputs": [],
   "source": [
    "a = {5,5,5,3,2}"
   ]
  },
  {
   "cell_type": "code",
   "execution_count": 73,
   "id": "dd067180",
   "metadata": {},
   "outputs": [
    {
     "name": "stdout",
     "output_type": "stream",
     "text": [
      "{2, 3, 5}\n"
     ]
    }
   ],
   "source": [
    "list(a).sort()\n",
    "print(a)"
   ]
  },
  {
   "cell_type": "code",
   "execution_count": 79,
   "id": "4bd73dc4",
   "metadata": {},
   "outputs": [],
   "source": [
    "tu = (\"2001\", {\"mysql\", \"joshua\", \"daniel\"})"
   ]
  },
  {
   "cell_type": "code",
   "execution_count": 81,
   "id": "95429a26",
   "metadata": {},
   "outputs": [
    {
     "ename": "TypeError",
     "evalue": "'tuple' object does not support item assignment",
     "output_type": "error",
     "traceback": [
      "\u001b[0;31m---------------------------------------------------------------------------\u001b[0m",
      "\u001b[0;31mTypeError\u001b[0m                                 Traceback (most recent call last)",
      "\u001b[0;32m<ipython-input-81-852afec1719f>\u001b[0m in \u001b[0;36m<module>\u001b[0;34m\u001b[0m\n\u001b[1;32m      2\u001b[0m \u001b[0mx\u001b[0m \u001b[0;34m=\u001b[0m \u001b[0mlist\u001b[0m\u001b[0;34m(\u001b[0m\u001b[0mx\u001b[0m\u001b[0;34m)\u001b[0m\u001b[0;34m\u001b[0m\u001b[0;34m\u001b[0m\u001b[0m\n\u001b[1;32m      3\u001b[0m \u001b[0mx\u001b[0m\u001b[0;34m.\u001b[0m\u001b[0msort\u001b[0m\u001b[0;34m(\u001b[0m\u001b[0;34m)\u001b[0m\u001b[0;34m\u001b[0m\u001b[0;34m\u001b[0m\u001b[0m\n\u001b[0;32m----> 4\u001b[0;31m \u001b[0mtu\u001b[0m\u001b[0;34m[\u001b[0m\u001b[0;36m1\u001b[0m\u001b[0;34m]\u001b[0m \u001b[0;34m=\u001b[0m \u001b[0mx\u001b[0m\u001b[0;34m[\u001b[0m\u001b[0;34m:\u001b[0m\u001b[0;36m5\u001b[0m\u001b[0;34m]\u001b[0m\u001b[0;34m\u001b[0m\u001b[0;34m\u001b[0m\u001b[0m\n\u001b[0m",
      "\u001b[0;31mTypeError\u001b[0m: 'tuple' object does not support item assignment"
     ]
    }
   ],
   "source": [
    "x= tu[1]\n",
    "x = list(x)\n",
    "x.sort()\n",
    "tu[1] = x[:5]"
   ]
  },
  {
   "cell_type": "code",
   "execution_count": null,
   "id": "aef3cae7",
   "metadata": {},
   "outputs": [],
   "source": []
  }
 ],
 "metadata": {
  "kernelspec": {
   "display_name": "Python 3",
   "language": "python",
   "name": "python3"
  },
  "language_info": {
   "codemirror_mode": {
    "name": "ipython",
    "version": 3
   },
   "file_extension": ".py",
   "mimetype": "text/x-python",
   "name": "python",
   "nbconvert_exporter": "python",
   "pygments_lexer": "ipython3",
   "version": "3.8.10"
  }
 },
 "nbformat": 4,
 "nbformat_minor": 5
}
