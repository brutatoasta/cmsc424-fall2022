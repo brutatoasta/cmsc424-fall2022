{
 "cells": [
  {
   "cell_type": "markdown",
   "id": "b0da03b6",
   "metadata": {},
   "source": [
    "You can use this notebook to develop your answers. Make sure to look at intermediate results using `take()` for debugging."
   ]
  },
  {
   "cell_type": "code",
   "execution_count": 2,
   "id": "0a62f9a2",
   "metadata": {},
   "outputs": [],
   "source": [
    "import json \n",
    "\n",
    "## Load data into RDDs\n",
    "usersRDD = sc.textFile(\"datafiles/se_users.json\").map(json.loads)\n",
    "postsRDD = sc.textFile(\"datafiles/se_posts.json\").map(json.loads)\n",
    "playRDD = sc.textFile(\"datafiles/play.txt\")\n",
    "logsRDD = sc.textFile(\"datafiles/NASA_logs_sample.txt\")\n",
    "amazonInputRDD = sc.textFile(\"datafiles/amazon-ratings.txt\")\n",
    "nobelRDD = sc.textFile(\"datafiles/prize.json\").map(json.loads)\n",
    "amazonBipartiteRDD = amazonInputRDD.map(lambda x: x.split(\" \")).map(lambda x: (x[0], x[1])).distinct()"
   ]
  },
  {
   "cell_type": "code",
   "execution_count": 4,
   "id": "073cbfb9",
   "metadata": {},
   "outputs": [
    {
     "name": "stdout",
     "output_type": "stream",
     "text": [
      "{'id': -1, 'reputation': 1, 'creationdate': '2011-01-03', 'displayname': 'Community', 'views': 863, 'upvotes': 12299, 'downvotes': 8651}\n",
      "{'id': 2, 'reputation': 101, 'creationdate': '2011-01-03', 'displayname': 'Geoff Dalgas', 'views': 64, 'upvotes': 10, 'downvotes': 0}\n",
      "{'id': 3, 'reputation': 101, 'creationdate': '2011-01-03', 'displayname': 'balpha', 'views': 35, 'upvotes': 4, 'downvotes': 0}\n",
      "{'id': 4, 'reputation': 212, 'creationdate': '2011-01-03', 'displayname': 'Nick Craver', 'views': 61, 'upvotes': 11, 'downvotes': 1}\n",
      "{'id': 5, 'reputation': 101, 'creationdate': '2011-01-03', 'displayname': 'Emmett', 'views': 32, 'upvotes': 2, 'downvotes': 0}\n",
      "{'id': 6, 'reputation': 100, 'creationdate': '2011-01-03', 'displayname': 'Robert Cartaino', 'views': 36, 'upvotes': 0, 'downvotes': 2}\n",
      "{'id': 7, 'reputation': 1128, 'creationdate': '2011-01-03', 'displayname': 'Toby', 'views': 69, 'upvotes': 18, 'downvotes': 0}\n",
      "{'id': 8, 'reputation': 2949, 'creationdate': '2011-01-03', 'displayname': 'ilhan', 'views': 142, 'upvotes': 12, 'downvotes': 0}\n",
      "{'id': 9, 'reputation': 101, 'creationdate': '2011-01-03', 'displayname': 'Humpton', 'views': 12, 'upvotes': 7, 'downvotes': 0}\n",
      "{'id': 10, 'reputation': 175, 'creationdate': '2011-01-03', 'displayname': 'Kim', 'views': 27, 'upvotes': 1, 'downvotes': 1}\n"
     ]
    }
   ],
   "source": [
    "for t in usersRDD.take(10): print(t)"
   ]
  },
  {
   "cell_type": "code",
   "execution_count": null,
   "id": "e183aa31",
   "metadata": {},
   "outputs": [],
   "source": []
  }
 ],
 "metadata": {
  "kernelspec": {
   "display_name": "Python 3",
   "language": "python",
   "name": "python3"
  },
  "language_info": {
   "codemirror_mode": {
    "name": "ipython",
    "version": 3
   },
   "file_extension": ".py",
   "mimetype": "text/x-python",
   "name": "python",
   "nbconvert_exporter": "python",
   "pygments_lexer": "ipython3",
   "version": "3.8.10"
  }
 },
 "nbformat": 4,
 "nbformat_minor": 5
}
