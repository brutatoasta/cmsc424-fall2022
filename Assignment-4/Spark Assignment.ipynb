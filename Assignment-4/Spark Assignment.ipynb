{
 "cells": [
  {
   "cell_type": "markdown",
   "id": "c4dd58a0",
   "metadata": {},
   "source": [
    "You can use this notebook to develop your answers. Make sure to look at intermediate results using `take()` for debugging."
   ]
  },
  {
   "cell_type": "code",
   "execution_count": 1,
   "id": "6afe1ad5",
   "metadata": {},
   "outputs": [],
   "source": [
    "import json \n",
    "\n",
    "## Load data into RDDs\n",
    "usersRDD = sc.textFile(\"datafiles/se_users.json\").map(json.loads)\n",
    "postsRDD = sc.textFile(\"datafiles/se_posts.json\").map(json.loads)\n",
    "playRDD = sc.textFile(\"datafiles/play.txt\")\n",
    "logsRDD = sc.textFile(\"datafiles/NASA_logs_sample.txt\")\n",
    "amazonInputRDD = sc.textFile(\"datafiles/amazon-ratings.txt\")\n",
    "nobelRDD = sc.textFile(\"datafiles/prize.json\").map(json.loads)\n",
    "amazonBipartiteRDD = amazonInputRDD.map(lambda x: x.split(\" \")).map(lambda x: (x[0], x[1])).distinct()"
   ]
  },
  {
   "cell_type": "code",
   "execution_count": 2,
   "id": "c559da92",
   "metadata": {},
   "outputs": [
    {
     "name": "stdout",
     "output_type": "stream",
     "text": [
      "{'id': 2, 'posttypeid': 1, 'title': 'How can a group track database schema changes?', 'acceptedanswerid': 4, 'parentid': None, 'creationdate': '2011-01-03', 'score': 68, 'viewcount': 11533, 'owneruserid': 7, 'lasteditoruserid': 97, 'tags': '<mysql><version-control><schema>'}\n",
      "{'id': 3, 'posttypeid': 1, 'title': 'What is an effective way of labeling columns in a database?', 'acceptedanswerid': None, 'parentid': None, 'creationdate': '2011-01-03', 'score': 30, 'viewcount': 1302, 'owneruserid': 17, 'lasteditoruserid': 97, 'tags': '<database-design><erd>'}\n",
      "{'id': 4, 'posttypeid': 2, 'title': None, 'acceptedanswerid': None, 'parentid': 2, 'creationdate': '2011-01-03', 'score': 46, 'viewcount': None, 'owneruserid': 18, 'lasteditoruserid': 1396, 'tags': None}\n"
     ]
    }
   ],
   "source": [
    "for t in postsRDD.take(3): print(t)"
   ]
  },
  {
   "cell_type": "markdown",
   "id": "bebaa49a",
   "metadata": {},
   "source": [
    "Task 1 (0.25): Use filter to find all posts where tags are not null (None in python) and that are tagged 'postgresql-9.4', and then a map so that the output RDD has tuples of the form: (ID, Title, Tags). Note that postsRDD contains dictionaries -- see the contents by running postsRDD.take(10)."
   ]
  },
  {
   "cell_type": "code",
   "execution_count": 3,
   "id": "dc12d8ea",
   "metadata": {
    "scrolled": true
   },
   "outputs": [],
   "source": [
    "def task1(postsRDD):\n",
    "    res = postsRDD.filter(\n",
    "        lambda x: x.get(\"tags\")!= None).filter(\n",
    "        lambda x: \"postgresql-9.4\" in x.get(\"tags\")).map(\n",
    "        lambda x: (x.get(\"id\"), x.get(\"title\"), x.get(\"tags\"))\n",
    "    )\n",
    "    return res \n",
    "a = task1(postsRDD)"
   ]
  },
  {
   "cell_type": "code",
   "execution_count": 4,
   "id": "44da186c",
   "metadata": {},
   "outputs": [
    {
     "name": "stdout",
     "output_type": "stream",
     "text": [
      "(89480, 'PostgreSQL timezone setting', '<postgresql><postgresql-9.4>')\n",
      "(89555, 'Retrieving latest record using DISTINCT ON is slow', '<postgresql><index><performance><postgresql-9.4><query-performance>')\n",
      "(89746, 'Use result of aggregate in same select?', '<postgresql><postgresql-9.4>')\n",
      "(89971, 'PostgreSql JSONB SELECT against multiple values', '<postgresql><json><postgresql-9.4>')\n",
      "(90002, 'PostgreSQL operator uses index but underlying function does not', '<postgresql><index-tuning><json><postgresql-9.4><operator>')\n",
      "(90360, 'Rely on .pgpass in CREATE USER MAPPING', '<postgresql><postgresql-9.4><foreign-data>')\n",
      "(95214, 'Working with Materialized View', '<postgresql><materialized-view><postgresql-9.4><pgbouncer>')\n",
      "(95758, 'PostgreSQL update and delete property from JSONB column', '<postgresql><postgresql-9.4>')\n",
      "(95778, 'Clarification on UNION ALL of JSONB_EACH result', '<postgresql><postgresql-9.4>')\n",
      "(45870, 'How to do incremental backup every hour in Postgres?', '<postgresql><backup><windows><postgresql-9.4>')\n"
     ]
    }
   ],
   "source": [
    "for t in a.take(10): print(t)"
   ]
  },
  {
   "cell_type": "markdown",
   "id": "fb2a475e",
   "metadata": {},
   "source": [
    "Task 2 (0.25): Use flatMap on the postsRDD to create an RDD (ID, Tag), listing all the tags for each post as a separate tuple. If a post has no tags, it should not appear in the output RDD."
   ]
  },
  {
   "cell_type": "code",
   "execution_count": 5,
   "id": "88a30e2b",
   "metadata": {},
   "outputs": [],
   "source": [
    "def task2FlatMapper(dic):\n",
    "    res = []\n",
    "    tags = dic.get(\"tags\").replace(\"<\", \"\").replace(\">\", \" \").split(\" \")\n",
    "    tags.pop()\n",
    "    for i in tags:\n",
    "        res.append( (dic.get(\"id\"), i)\n",
    "        )\n",
    "    return res\n",
    "    \n",
    "\n",
    "def task2(postsRDD):\n",
    "    return postsRDD.filter(\n",
    "        lambda x: x.get(\"tags\")!= None).flatMap(\n",
    "        task2FlatMapper\n",
    "    )\n",
    "a = task2(postsRDD)"
   ]
  },
  {
   "cell_type": "markdown",
   "id": "c42a68e2",
   "metadata": {},
   "source": [
    "Task 3 (0.25): The goal here is to find the 5 lexicographically smallest tags for each year, for the posts from that year. So the outputRDD should be contain tuples of the form: ('2001', ['tag1', 'tag2', ..., 'tag5']), with 'tag1' < 'tag2' and 'tag5' being smaller (lexicographically) than any other tag for a post from that year. All the five (or fewer for some of the years) tags should be distinct. Use a map followed by reduceByKey for doing this."
   ]
  },
  {
   "cell_type": "code",
   "execution_count": 6,
   "id": "08d28e8a",
   "metadata": {},
   "outputs": [],
   "source": [
    "def task3MapA(dic):\n",
    "    # get the year and tags for each row in postsRDD\n",
    "    year = dic[\"creationdate\"][:4]\n",
    "    tags = dic.get(\"tags\").replace(\"<\", \"\").replace(\">\", \" \").split(\" \")\n",
    "    tags.pop()\n",
    "    res = (year, set(tags)) # change to set for set union in reduceByKey\n",
    "    return res\n",
    "def task3MapB(tu):\n",
    "    # return to list for sorting, limit to top 5\n",
    "    x = tu[1]\n",
    "    x = list(x)\n",
    "    x.sort()\n",
    "    return (tu[0], x[:5])\n",
    "\n",
    "def task3(postsRDD):\n",
    "    return postsRDD.filter(\n",
    "        lambda x: x.get(\"tags\")!= None).map(\n",
    "            task3MapA).reduceByKey( # set union to remove duplicates\n",
    "                lambda v1, v2: v1 | v2).map(task3MapB)\n",
    "a = task3(postsRDD)"
   ]
  },
  {
   "cell_type": "code",
   "execution_count": 7,
   "id": "4710086a",
   "metadata": {},
   "outputs": [
    {
     "name": "stdout",
     "output_type": "stream",
     "text": [
      "('2011', ['access-control', 'active-directory', 'activity-monitor', 'ado.net', 'aggregate'])\n",
      "('2014', ['access-control', 'acid', 'active-directory', 'activity-monitor', 'address'])\n",
      "('2015', ['access-control', 'active-directory', 'ado.net', 'aggregate', 'alter-database'])\n",
      "('2010', ['data-warehouse', 'database-design', 'dbcc', 'export', 'import'])\n",
      "('2012', ['access-control', 'active-directory', 'activity-monitor', 'address', 'ado.net'])\n",
      "('2013', ['access-control', 'acid', 'active-directory', 'activity-monitor', 'address'])\n",
      "('2009', ['career', 'ssas'])\n"
     ]
    }
   ],
   "source": [
    "for t in a.take(100): print(t)\n",
    "# print(len(a.collect()))"
   ]
  },
  {
   "cell_type": "markdown",
   "id": "55f3aeaf",
   "metadata": {},
   "source": [
    "Task 4 (0.25): Use join to join the usersRDD and postsRDD on users.id = owneruserid. The output should be a tuple of the form: (userid, displayname, postid, posttitle). You will need to do several maps to do this. Make sure you look at the structure of the objects with the RDD after the join; it will need to postprocessed using a map to get to the desired output."
   ]
  },
  {
   "cell_type": "code",
   "execution_count": 8,
   "id": "9e7c1fb4",
   "metadata": {},
   "outputs": [],
   "source": [
    "def userTup(dic):\n",
    "    res = (dic[\"id\"] , dic[\"displayname\"])\n",
    "    return res\n",
    "def postsTup(dic):\n",
    "    res = (dic[\"owneruserid\"], (dic[\"id\"], dic[\"title\"]))\n",
    "    return res\n",
    "def combTup(tu):\n",
    "    res = tu[0]\n",
    "def task41(usersRDD, postsRDD):\n",
    "    rdd1 = usersRDD.map(userTup)\n",
    "    return rdd1\n",
    "\n",
    "def task42(usersRDD, postsRDD):\n",
    "    rdd2 = postsRDD.map(postsTup)\n",
    "    return rdd2#1.join(rdd2)\n",
    "\n",
    "def task4(usersRDD, postsRDD):\n",
    "    rdd1 = usersRDD.map(userTup)\n",
    "    rdd2 = postsRDD.map(postsTup)\n",
    "    rdd3 = rdd1.join(rdd2)\n",
    "    return rdd3.map()\n",
    "\n",
    "a = task41(usersRDD, postsRDD)\n",
    "b = task42(usersRDD, postsRDD)\n",
    "c = task4(usersRDD, postsRDD)"
   ]
  },
  {
   "cell_type": "code",
   "execution_count": 9,
   "id": "219e230d",
   "metadata": {},
   "outputs": [
    {
     "name": "stdout",
     "output_type": "stream",
     "text": [
      "a\n",
      "(-1, 'Community')\n",
      "(2, 'Geoff Dalgas')\n",
      "(3, 'balpha')\n",
      "b\n",
      "(7, (2, 'How can a group track database schema changes?'))\n",
      "(17, (3, 'What is an effective way of labeling columns in a database?'))\n",
      "(18, (4, None))\n",
      "c\n",
      "(8, ('ilhan', (2107, 'How to get a users friends names?')))\n",
      "(8, ('ilhan', (6255, 'Should I record ID numbers in a table where I record who look whom profile page')))\n",
      "(8, ('ilhan', (42729, 'Merging two Access tables into one')))\n"
     ]
    }
   ],
   "source": [
    "print(\"a\")\n",
    "for t in a.take(3): print(t)\n",
    "print(\"b\")\n",
    "for t in b.take(3): print(t)\n",
    "print(\"c\")\n",
    "for t in c.take(3): print(t)\n",
    "# print(len(a.collect()))"
   ]
  },
  {
   "cell_type": "code",
   "execution_count": 10,
   "id": "5f80fff3",
   "metadata": {},
   "outputs": [
    {
     "name": "stdout",
     "output_type": "stream",
     "text": [
      "{'id': -1, 'reputation': 1, 'creationdate': '2011-01-03', 'displayname': 'Community', 'views': 863, 'upvotes': 12299, 'downvotes': 8651}\n",
      "{'id': 2, 'reputation': 101, 'creationdate': '2011-01-03', 'displayname': 'Geoff Dalgas', 'views': 64, 'upvotes': 10, 'downvotes': 0}\n",
      "{'id': 3, 'reputation': 101, 'creationdate': '2011-01-03', 'displayname': 'balpha', 'views': 35, 'upvotes': 4, 'downvotes': 0}\n"
     ]
    }
   ],
   "source": [
    "for t in usersRDD.take(3): print(t)"
   ]
  },
  {
   "cell_type": "code",
   "execution_count": 11,
   "id": "1e4171e4",
   "metadata": {},
   "outputs": [
    {
     "name": "stdout",
     "output_type": "stream",
     "text": [
      "{'id': 2, 'posttypeid': 1, 'title': 'How can a group track database schema changes?', 'acceptedanswerid': 4, 'parentid': None, 'creationdate': '2011-01-03', 'score': 68, 'viewcount': 11533, 'owneruserid': 7, 'lasteditoruserid': 97, 'tags': '<mysql><version-control><schema>'}\n"
     ]
    }
   ],
   "source": [
    "for t in postsRDD.take(1): print(t)"
   ]
  },
  {
   "cell_type": "code",
   "execution_count": null,
   "id": "36f3acd1",
   "metadata": {},
   "outputs": [],
   "source": []
  }
 ],
 "metadata": {
  "kernelspec": {
   "display_name": "Python 3",
   "language": "python",
   "name": "python3"
  },
  "language_info": {
   "codemirror_mode": {
    "name": "ipython",
    "version": 3
   },
   "file_extension": ".py",
   "mimetype": "text/x-python",
   "name": "python",
   "nbconvert_exporter": "python",
   "pygments_lexer": "ipython3",
   "version": "3.8.10"
  }
 },
 "nbformat": 4,
 "nbformat_minor": 5
}
